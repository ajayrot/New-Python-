{
 "cells": [
  {
   "cell_type": "markdown",
   "id": "6b914221",
   "metadata": {},
   "source": [
    "# String Functions:\n",
    "- upper() --> Converts the given string into upper case\n",
    "- lower() --> Converts given string into lower case"
   ]
  },
  {
   "cell_type": "code",
   "execution_count": 2,
   "id": "8f9c04aa",
   "metadata": {},
   "outputs": [
    {
     "name": "stdout",
     "output_type": "stream",
     "text": [
      "PYTHON\n",
      "python\n"
     ]
    }
   ],
   "source": [
    "s = \"Python\"\n",
    "print(s.upper())\n",
    "print(s.lower())"
   ]
  },
  {
   "cell_type": "markdown",
   "id": "d98b5eae",
   "metadata": {},
   "source": [
    "# String Methods:\n",
    "- join()\n",
    "- split()\n",
    "- replace()"
   ]
  },
  {
   "cell_type": "code",
   "execution_count": 4,
   "id": "15faea16",
   "metadata": {},
   "outputs": [
    {
     "name": "stdout",
     "output_type": "stream",
     "text": [
      "P y t h o n\n",
      "P,y,t,h,o,n\n"
     ]
    }
   ],
   "source": [
    "s = \"Python\"\n",
    "print(\" \".join(s))\n",
    "print(\",\".join(s))"
   ]
  },
  {
   "cell_type": "code",
   "execution_count": 5,
   "id": "46c09249",
   "metadata": {},
   "outputs": [
    {
     "name": "stdout",
     "output_type": "stream",
     "text": [
      "P y t h o n   I s   S i m p l e   p r o g r a m m i n g   l a n g u a g e\n"
     ]
    }
   ],
   "source": [
    "s1 = \"Python Is Simple programming language\"\n",
    "print(\" \".join(s1))"
   ]
  },
  {
   "cell_type": "code",
   "execution_count": 6,
   "id": "0af526b6",
   "metadata": {},
   "outputs": [
    {
     "name": "stdout",
     "output_type": "stream",
     "text": [
      "['Python', 'Is', 'Simple', 'programming', 'language']\n"
     ]
    }
   ],
   "source": [
    "s1 = \"Python Is Simple programming language\"\n",
    "print(s1.split())"
   ]
  },
  {
   "cell_type": "code",
   "execution_count": 7,
   "id": "0e4bf1ff",
   "metadata": {},
   "outputs": [
    {
     "name": "stdout",
     "output_type": "stream",
     "text": [
      "['Python Is Simple progr', 'mming l', 'ngu', 'ge']\n"
     ]
    }
   ],
   "source": [
    "print(s1.split(\"a\"))"
   ]
  },
  {
   "cell_type": "code",
   "execution_count": 8,
   "id": "a0bd309f",
   "metadata": {},
   "outputs": [
    {
     "name": "stdout",
     "output_type": "stream",
     "text": [
      "Python Is Easy programming language\n"
     ]
    }
   ],
   "source": [
    "# Replace Method()\n",
    "s1 = \"Python Is Simple programming language\"\n",
    "print(s1.replace(\"Simple\",\"Easy\"))"
   ]
  },
  {
   "cell_type": "markdown",
   "id": "b7b11816",
   "metadata": {},
   "source": [
    "# Boolean  Functions\n",
    "- islower()\n",
    "- isupper()\n",
    "- istile()\n",
    "- isaplha()\n",
    "- isnumeric()\n",
    "- isspace()"
   ]
  },
  {
   "cell_type": "code",
   "execution_count": 9,
   "id": "3a57ed2d",
   "metadata": {},
   "outputs": [
    {
     "name": "stdout",
     "output_type": "stream",
     "text": [
      "False\n"
     ]
    }
   ],
   "source": [
    "s = \"Python\"\n",
    "print(s.islower())"
   ]
  },
  {
   "cell_type": "code",
   "execution_count": 10,
   "id": "15ae61a2",
   "metadata": {},
   "outputs": [
    {
     "name": "stdout",
     "output_type": "stream",
     "text": [
      "True\n"
     ]
    }
   ],
   "source": [
    "s = \"python\"\n",
    "print(s.islower())"
   ]
  },
  {
   "cell_type": "code",
   "execution_count": 13,
   "id": "74c710bb",
   "metadata": {},
   "outputs": [
    {
     "name": "stdout",
     "output_type": "stream",
     "text": [
      "True\n"
     ]
    }
   ],
   "source": [
    "s1 =\"PYTHON\"\n",
    "print(s1.isupper())"
   ]
  },
  {
   "cell_type": "code",
   "execution_count": 15,
   "id": "6283316e",
   "metadata": {},
   "outputs": [
    {
     "name": "stdout",
     "output_type": "stream",
     "text": [
      "True\n"
     ]
    }
   ],
   "source": [
    "s = \"Python\"\n",
    "print(s.istitle())"
   ]
  },
  {
   "cell_type": "code",
   "execution_count": 19,
   "id": "7d1d5f0b",
   "metadata": {},
   "outputs": [
    {
     "name": "stdout",
     "output_type": "stream",
     "text": [
      "False\n"
     ]
    }
   ],
   "source": [
    "s1 = \"python\"\n",
    "print(s1.istitle())"
   ]
  },
  {
   "cell_type": "code",
   "execution_count": 17,
   "id": "d1d6f16a",
   "metadata": {},
   "outputs": [
    {
     "name": "stdout",
     "output_type": "stream",
     "text": [
      "True\n"
     ]
    }
   ],
   "source": [
    "s = \"Python\"\n",
    "print(s.isalpha())"
   ]
  },
  {
   "cell_type": "code",
   "execution_count": 20,
   "id": "e98429cc",
   "metadata": {},
   "outputs": [
    {
     "name": "stdout",
     "output_type": "stream",
     "text": [
      "True\n"
     ]
    }
   ],
   "source": [
    "s = \"1235\"\n",
    "print(s.isnumeric())"
   ]
  },
  {
   "cell_type": "code",
   "execution_count": 21,
   "id": "df2993b9",
   "metadata": {},
   "outputs": [
    {
     "name": "stdout",
     "output_type": "stream",
     "text": [
      "False\n"
     ]
    }
   ],
   "source": [
    "s = \"Python\"\n",
    "print(s.isnumeric())"
   ]
  },
  {
   "cell_type": "code",
   "execution_count": 22,
   "id": "61b809c6",
   "metadata": {},
   "outputs": [
    {
     "name": "stdout",
     "output_type": "stream",
     "text": [
      "False\n"
     ]
    }
   ],
   "source": [
    "s1 = \"Py th on\"\n",
    "print(s1.isspace())"
   ]
  },
  {
   "cell_type": "code",
   "execution_count": 23,
   "id": "3c9a2ac3",
   "metadata": {},
   "outputs": [
    {
     "name": "stdout",
     "output_type": "stream",
     "text": [
      "True\n"
     ]
    }
   ],
   "source": [
    "s1 = \" \"\n",
    "print(s1.isspace())"
   ]
  },
  {
   "cell_type": "markdown",
   "id": "b2c2276b",
   "metadata": {},
   "source": [
    "# File Handling:\n",
    "- File HAndling is important part in web apllication\n",
    "- Function:\n",
    "  - creating\n",
    "  - reading\n",
    "  - updating\n",
    "  - deleting\n",
    "- Key function for working with files is open() function\n",
    "- Open() Function takes 2 parameter filename and mode\n",
    "- modes are 3 \n",
    "   - r  --read a file\n",
    "   - a  -- append to file\n",
    "   - w  -- write to file\n"
   ]
  },
  {
   "cell_type": "code",
   "execution_count": 27,
   "id": "91058c69",
   "metadata": {},
   "outputs": [
    {
     "name": "stdout",
     "output_type": "stream",
     "text": [
      "Welcome to file handling\n"
     ]
    }
   ],
   "source": [
    "f = open(\"text.txt\",\"r\")\n",
    "print(f.read())"
   ]
  },
  {
   "cell_type": "code",
   "execution_count": 28,
   "id": "85943168",
   "metadata": {},
   "outputs": [
    {
     "name": "stdout",
     "output_type": "stream",
     "text": [
      "Wel\n"
     ]
    }
   ],
   "source": [
    "# want to read fisrt 3 charcaters\n",
    "f = open(\"text.txt\",\"r\")\n",
    "print(f.read(3))"
   ]
  },
  {
   "cell_type": "code",
   "execution_count": 31,
   "id": "9b990642",
   "metadata": {},
   "outputs": [
    {
     "name": "stdout",
     "output_type": "stream",
     "text": [
      "Welcome to file handling\n",
      "\n",
      "this is 1 st line\n",
      "\n",
      "this 2 line\n",
      "\n"
     ]
    }
   ],
   "source": [
    "# readline\n",
    "f = open(\"text.txt\",\"r\")\n",
    "print(f.readline())\n",
    "print(f.readline())\n",
    "print(f.readline())"
   ]
  },
  {
   "cell_type": "code",
   "execution_count": null,
   "id": "2aae9b43",
   "metadata": {},
   "outputs": [],
   "source": []
  }
 ],
 "metadata": {
  "kernelspec": {
   "display_name": "Python 3 (ipykernel)",
   "language": "python",
   "name": "python3"
  },
  "language_info": {
   "codemirror_mode": {
    "name": "ipython",
    "version": 3
   },
   "file_extension": ".py",
   "mimetype": "text/x-python",
   "name": "python",
   "nbconvert_exporter": "python",
   "pygments_lexer": "ipython3",
   "version": "3.9.7"
  }
 },
 "nbformat": 4,
 "nbformat_minor": 5
}
