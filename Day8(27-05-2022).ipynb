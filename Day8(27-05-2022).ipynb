{
 "cells": [
  {
   "cell_type": "markdown",
   "id": "ebdf04e9",
   "metadata": {},
   "source": [
    "# Tuple:\n",
    "    - Tuple canned be changed \n",
    "    - In tuple items are sperated by comma (,) and enclosed with round brackets\n",
    "\n",
    "\n",
    "# Difference b/w List and Tuple:\n",
    "- list is mutable/can be changed/modifed\n",
    "    - access,modify,add,delete\n",
    "- Tuple is immutable/cannot be changed\n",
    "    - acess"
   ]
  },
  {
   "cell_type": "code",
   "execution_count": 2,
   "id": "305f63b0",
   "metadata": {},
   "outputs": [
    {
     "name": "stdout",
     "output_type": "stream",
     "text": [
      "(1, 2, 3, 4, 5, 6) <class 'tuple'>\n"
     ]
    }
   ],
   "source": [
    "t = (1,2,3,4,5,6)\n",
    "print(t,type(t))"
   ]
  },
  {
   "cell_type": "code",
   "execution_count": 3,
   "id": "bc4020a9",
   "metadata": {},
   "outputs": [
    {
     "name": "stdout",
     "output_type": "stream",
     "text": [
      "5\n"
     ]
    }
   ],
   "source": [
    "t = (1,2,3,4,5,6)\n",
    "print(t[4])"
   ]
  },
  {
   "cell_type": "code",
   "execution_count": 4,
   "id": "657df36c",
   "metadata": {},
   "outputs": [
    {
     "name": "stdout",
     "output_type": "stream",
     "text": [
      "6\n"
     ]
    }
   ],
   "source": [
    "t = (1,2,3,4,5,6)\n",
    "print(len(t))"
   ]
  },
  {
   "cell_type": "code",
   "execution_count": 7,
   "id": "929ed28a",
   "metadata": {},
   "outputs": [
    {
     "name": "stdout",
     "output_type": "stream",
     "text": [
      "[1, 2, 3, 4, 5, 6]\n",
      "(1, 2, 3, 4, 10, 6)\n"
     ]
    }
   ],
   "source": [
    "# Update tuple\n",
    "t = (1,2,3,4,5,6)\n",
    "t1 = list(t)\n",
    "print(t1)\n",
    "t1[4]= 10\n",
    "print(tuple(t1))"
   ]
  },
  {
   "cell_type": "markdown",
   "id": "b3fcd1c7",
   "metadata": {},
   "source": [
    "# Dictionary:\n",
    "- to store data values in key:value pairs\n",
    "- had unique data\n",
    "- dic object separates the key and value by using colon and key :values separaetd by comma(,) and enclosed with curly brackets\n"
   ]
  },
  {
   "cell_type": "code",
   "execution_count": 13,
   "id": "f8ad80c1",
   "metadata": {},
   "outputs": [
    {
     "name": "stdout",
     "output_type": "stream",
     "text": [
      "{'a': '1', 'b': '2', 'c': '3', 'd': '4'} <class 'dict'>\n"
     ]
    }
   ],
   "source": [
    "d = {'a':'1','b':'2','c':'3','d':\"4\"}\n",
    "print(d,type(d))\n"
   ]
  },
  {
   "cell_type": "code",
   "execution_count": 17,
   "id": "33452054",
   "metadata": {},
   "outputs": [
    {
     "data": {
      "text/plain": [
       "dict_keys(['a', 'b', 'c', 'd'])"
      ]
     },
     "execution_count": 17,
     "metadata": {},
     "output_type": "execute_result"
    }
   ],
   "source": [
    "# access keys\n",
    "d.keys()\n"
   ]
  },
  {
   "cell_type": "code",
   "execution_count": 16,
   "id": "8c17b267",
   "metadata": {},
   "outputs": [
    {
     "data": {
      "text/plain": [
       "dict_values(['1', '2', '3', '4'])"
      ]
     },
     "execution_count": 16,
     "metadata": {},
     "output_type": "execute_result"
    }
   ],
   "source": [
    "# access values\n",
    "d.values()"
   ]
  },
  {
   "cell_type": "code",
   "execution_count": 18,
   "id": "08f4da80",
   "metadata": {},
   "outputs": [
    {
     "data": {
      "text/plain": [
       "dict_items([('a', '1'), ('b', '2'), ('c', '3'), ('d', '4')])"
      ]
     },
     "execution_count": 18,
     "metadata": {},
     "output_type": "execute_result"
    }
   ],
   "source": [
    "# access items\n",
    "d.items()"
   ]
  },
  {
   "cell_type": "code",
   "execution_count": 19,
   "id": "eec88fed",
   "metadata": {},
   "outputs": [
    {
     "name": "stdout",
     "output_type": "stream",
     "text": [
      "3\n"
     ]
    }
   ],
   "source": [
    "# access particulr key values\n",
    "d = {'a':'1','b':'2','c':'3','d':\"4\"}\n",
    "print(d['c'])"
   ]
  },
  {
   "cell_type": "code",
   "execution_count": 20,
   "id": "444cf416",
   "metadata": {},
   "outputs": [
    {
     "name": "stdout",
     "output_type": "stream",
     "text": [
      "{'a': '1', 'b': '2', 'c': '10', 'd': '4'}\n"
     ]
    }
   ],
   "source": [
    "# update key value\n",
    "d['c'] = '10'\n",
    "print(d)"
   ]
  },
  {
   "cell_type": "code",
   "execution_count": 21,
   "id": "8e8c83c3",
   "metadata": {},
   "outputs": [
    {
     "name": "stdout",
     "output_type": "stream",
     "text": [
      "{'a': '1', 'b': '2', 'd': '4'}\n"
     ]
    }
   ],
   "source": [
    "# remove items\n",
    "d = {'a':'1','b':'2','c':'3','d':\"4\"}\n",
    "d.pop('c')\n",
    "print(d)"
   ]
  },
  {
   "cell_type": "markdown",
   "id": "c72bc798",
   "metadata": {},
   "source": [
    "# Functional Programming:\n",
    "- gruop of statement which can perform a specific taks\n",
    "- code reusabaility\n",
    "- program can be divided into multiple sub blocks"
   ]
  },
  {
   "cell_type": "code",
   "execution_count": null,
   "id": "e6a6251d",
   "metadata": {},
   "outputs": [],
   "source": [
    "# syntax:\n",
    "def <fumctionname>(<parameters>):\n",
    "    statement\n",
    "    return"
   ]
  },
  {
   "cell_type": "code",
   "execution_count": 23,
   "id": "ba281cab",
   "metadata": {},
   "outputs": [
    {
     "name": "stdout",
     "output_type": "stream",
     "text": [
      "7\n"
     ]
    }
   ],
   "source": [
    "def add(x,y):\n",
    "    print(x+y)\n",
    "add(3,4)"
   ]
  },
  {
   "cell_type": "code",
   "execution_count": 24,
   "id": "83b36c54",
   "metadata": {},
   "outputs": [
    {
     "data": {
      "text/plain": [
       "125"
      ]
     },
     "execution_count": 24,
     "metadata": {},
     "output_type": "execute_result"
    }
   ],
   "source": [
    "def cude(a):\n",
    "    return a*a*a\n",
    "cude(5)"
   ]
  },
  {
   "cell_type": "code",
   "execution_count": 25,
   "id": "eed5bb2d",
   "metadata": {},
   "outputs": [
    {
     "name": "stdout",
     "output_type": "stream",
     "text": [
      "13\n"
     ]
    }
   ],
   "source": [
    "add(6,7)"
   ]
  },
  {
   "cell_type": "code",
   "execution_count": 26,
   "id": "d850d857",
   "metadata": {},
   "outputs": [
    {
     "data": {
      "text/plain": [
       "343"
      ]
     },
     "execution_count": 26,
     "metadata": {},
     "output_type": "execute_result"
    }
   ],
   "source": [
    "cude(7)"
   ]
  },
  {
   "cell_type": "code",
   "execution_count": 27,
   "id": "66147cb4",
   "metadata": {},
   "outputs": [
    {
     "data": {
      "text/plain": [
       "12"
      ]
     },
     "execution_count": 27,
     "metadata": {},
     "output_type": "execute_result"
    }
   ],
   "source": [
    "# 123456\n",
    "# o/p:2+4+6 = 12\n",
    "def even(x):\n",
    "    sum = 0\n",
    "    while x !=0:\n",
    "        a = x%10\n",
    "        if a%2==0:\n",
    "            sum = sum+a\n",
    "        x = x//10\n",
    "    return sum\n",
    "even(123456)"
   ]
  },
  {
   "cell_type": "code",
   "execution_count": 28,
   "id": "f9f6a3a2",
   "metadata": {},
   "outputs": [
    {
     "data": {
      "text/plain": [
       "8"
      ]
     },
     "execution_count": 28,
     "metadata": {},
     "output_type": "execute_result"
    }
   ],
   "source": [
    "# Find large number\n",
    "# 1778\n",
    "# 8\n",
    "def large(n):\n",
    "    large = 0\n",
    "    while n !=0:\n",
    "        a = n%10\n",
    "        if large <a:\n",
    "            large = a\n",
    "        n= n//10\n",
    "    return large\n",
    "large(1778)"
   ]
  },
  {
   "cell_type": "code",
   "execution_count": 29,
   "id": "ace34153",
   "metadata": {},
   "outputs": [
    {
     "data": {
      "text/plain": [
       "321"
      ]
     },
     "execution_count": 29,
     "metadata": {},
     "output_type": "execute_result"
    }
   ],
   "source": [
    "# 123\n",
    "# 321\n",
    "def reverse(n):\n",
    "    rev = 0\n",
    "    while n !=0:\n",
    "        a = n%10\n",
    "        rev = rev*10+a\n",
    "        n = n//10\n",
    "    return rev\n",
    "reverse(123)"
   ]
  },
  {
   "cell_type": "code",
   "execution_count": 30,
   "id": "7dadf617",
   "metadata": {},
   "outputs": [
    {
     "data": {
      "text/plain": [
       "654321"
      ]
     },
     "execution_count": 30,
     "metadata": {},
     "output_type": "execute_result"
    }
   ],
   "source": [
    "reverse(123456)"
   ]
  },
  {
   "cell_type": "code",
   "execution_count": 33,
   "id": "d1c69e56",
   "metadata": {},
   "outputs": [
    {
     "name": "stdout",
     "output_type": "stream",
     "text": [
      "No\n"
     ]
    }
   ],
   "source": [
    "# Palindrome or not\n",
    "# 123 - 321\n",
    "# 121 - 121\n",
    "def palindrome(n):\n",
    "    rev = 0\n",
    "    buffer = n\n",
    "    while n !=0:\n",
    "        a = n%10\n",
    "        rev = rev*10+a\n",
    "        n =n//10\n",
    "    if buffer ==rev:\n",
    "            return \"Yes\"\n",
    "    else:\n",
    "            return \"No\"\n",
    "print(palindrome(123))\n"
   ]
  },
  {
   "cell_type": "code",
   "execution_count": 34,
   "id": "6a33282e",
   "metadata": {},
   "outputs": [
    {
     "name": "stdout",
     "output_type": "stream",
     "text": [
      "Yes\n"
     ]
    }
   ],
   "source": [
    "print(palindrome(121))"
   ]
  },
  {
   "cell_type": "code",
   "execution_count": null,
   "id": "e72a3056",
   "metadata": {},
   "outputs": [],
   "source": []
  }
 ],
 "metadata": {
  "kernelspec": {
   "display_name": "Python 3 (ipykernel)",
   "language": "python",
   "name": "python3"
  },
  "language_info": {
   "codemirror_mode": {
    "name": "ipython",
    "version": 3
   },
   "file_extension": ".py",
   "mimetype": "text/x-python",
   "name": "python",
   "nbconvert_exporter": "python",
   "pygments_lexer": "ipython3",
   "version": "3.9.7"
  }
 },
 "nbformat": 4,
 "nbformat_minor": 5
}
