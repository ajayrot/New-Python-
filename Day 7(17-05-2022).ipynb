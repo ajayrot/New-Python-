{
 "cells": [
  {
   "cell_type": "markdown",
   "id": "a7b88aaa",
   "metadata": {},
   "source": [
    "# Data Structures: To store the data in particular object\n",
    "- List \n",
    "- Tuple\n",
    "- Dictionary\n",
    "\n",
    "--------------------\n",
    "- it will makes seceral operations will become simple\n",
    "   - sorting\n",
    "   - searching\n",
    "   - Storing"
   ]
  },
  {
   "cell_type": "markdown",
   "id": "b3bdcdf1",
   "metadata": {},
   "source": [
    "# List:\n",
    "- List can be changed \n",
    "- list can be enclosed with sqaure brackets and items are separated by comma"
   ]
  },
  {
   "cell_type": "code",
   "execution_count": 1,
   "id": "bcdd11d2",
   "metadata": {},
   "outputs": [
    {
     "name": "stdout",
     "output_type": "stream",
     "text": [
      "[1, 2, 3, 4, 5, 6]\n"
     ]
    }
   ],
   "source": [
    "l = [1,2,3,4,5,6]\n",
    "print(l)"
   ]
  },
  {
   "cell_type": "code",
   "execution_count": 2,
   "id": "6e7afb03",
   "metadata": {},
   "outputs": [
    {
     "name": "stdout",
     "output_type": "stream",
     "text": [
      "[1, 'pYthon', 2, 'Python2', 3, 'Python3']\n"
     ]
    }
   ],
   "source": [
    "l1 = [1,\"pYthon\",2,\"Python2\",3,\"Python3\"]\n",
    "print(l1)"
   ]
  },
  {
   "cell_type": "code",
   "execution_count": 5,
   "id": "530e9aa1",
   "metadata": {},
   "outputs": [
    {
     "name": "stdout",
     "output_type": "stream",
     "text": [
      "1\n",
      "1\n",
      "[1, 2, 3, 4]\n"
     ]
    }
   ],
   "source": [
    "# Access items in list\n",
    "l = [1,2,3,4,5,6]\n",
    "print(l[0])\n",
    "print(l[-6])\n",
    "# Access range of items\n",
    "print(l[0:4])"
   ]
  },
  {
   "cell_type": "code",
   "execution_count": 9,
   "id": "ca35259e",
   "metadata": {},
   "outputs": [
    {
     "name": "stdout",
     "output_type": "stream",
     "text": [
      "[1, 2, 3, 4, 5, 6]\n",
      "[1, 2, 10, 4, 5, 6]\n",
      "[1, 2, 3, 4, 5, 6]\n",
      "[1, 7, 8, 9, 4, 5, 6]\n"
     ]
    }
   ],
   "source": [
    "#update list item\n",
    "l = [1,2,3,4,5,6]\n",
    "print(l)\n",
    "l[2] = 10\n",
    "print(l)\n",
    "# Update range of items\n",
    "l = [1,2,3,4,5,6]\n",
    "print(l)\n",
    "l[1:3]= [7,8,9]\n",
    "print(l)"
   ]
  },
  {
   "cell_type": "markdown",
   "id": "dccb1b97",
   "metadata": {},
   "source": [
    "# List Methods:\n"
   ]
  },
  {
   "cell_type": "markdown",
   "id": "c978d639",
   "metadata": {},
   "source": [
    "# Insert Method:\n",
    "- it inserts an item in specified index"
   ]
  },
  {
   "cell_type": "code",
   "execution_count": 11,
   "id": "3b95adb3",
   "metadata": {},
   "outputs": [
    {
     "name": "stdout",
     "output_type": "stream",
     "text": [
      "[1, 2, 3, 4, 5, 6]\n",
      "[1, 2, 3, 'Python', 4, 5, 6]\n"
     ]
    }
   ],
   "source": [
    "l = [1,2,3,4,5,6]\n",
    "print(l)\n",
    "l.insert(3,\"Python\")\n",
    "print(l)"
   ]
  },
  {
   "cell_type": "markdown",
   "id": "2aca4d40",
   "metadata": {},
   "source": [
    "# Append Method:\n",
    "- add an item at the end of the list"
   ]
  },
  {
   "cell_type": "code",
   "execution_count": 14,
   "id": "4c8ada54",
   "metadata": {},
   "outputs": [
    {
     "name": "stdout",
     "output_type": "stream",
     "text": [
      "[1, 2, 3, 4, 5, 6]\n",
      "[1, 2, 3, 4, 5, 6, 9]\n",
      "[1, 2, 3, 4, 5, 6, 9, 10]\n"
     ]
    }
   ],
   "source": [
    "l = [1,2,3,4,5,6]\n",
    "print(l)\n",
    "l.append(9)\n",
    "print(l)\n",
    "l.append(10)\n",
    "print(l)"
   ]
  },
  {
   "cell_type": "markdown",
   "id": "c7d4b1ae",
   "metadata": {},
   "source": [
    "# Extend Method:\n",
    "- To append elements from one list to another list"
   ]
  },
  {
   "cell_type": "code",
   "execution_count": 15,
   "id": "9fb0af43",
   "metadata": {},
   "outputs": [
    {
     "name": "stdout",
     "output_type": "stream",
     "text": [
      "[1, 2, 3, 4, 5, 6, 7, 8, 9, 10, 11, 12]\n"
     ]
    }
   ],
   "source": [
    "l = [1,2,3,4,5,6]\n",
    "l1 = [7,8,9,10,11,12]\n",
    "l.extend(l1)\n",
    "print(l)"
   ]
  },
  {
   "cell_type": "markdown",
   "id": "48f7325c",
   "metadata": {},
   "source": [
    "# Remove Method:\n",
    "- remove specified item\n"
   ]
  },
  {
   "cell_type": "code",
   "execution_count": 16,
   "id": "2a68741e",
   "metadata": {},
   "outputs": [
    {
     "name": "stdout",
     "output_type": "stream",
     "text": [
      "[1, 2, 3, 4, 6]\n"
     ]
    }
   ],
   "source": [
    "l = [1,2,3,4,5,6]\n",
    "l.remove(5)\n",
    "print(l)"
   ]
  },
  {
   "cell_type": "markdown",
   "id": "38dd6d34",
   "metadata": {},
   "source": [
    "# Pop Method:\n",
    "- removes specified index"
   ]
  },
  {
   "cell_type": "code",
   "execution_count": 17,
   "id": "b365f2ac",
   "metadata": {},
   "outputs": [
    {
     "name": "stdout",
     "output_type": "stream",
     "text": [
      "[1, 3, 4, 5, 6]\n"
     ]
    }
   ],
   "source": [
    "l = [1,2,3,4,5,6]\n",
    "l.pop(1)\n",
    "print(l)"
   ]
  },
  {
   "cell_type": "markdown",
   "id": "7644667c",
   "metadata": {},
   "source": [
    "# del keyword \n"
   ]
  },
  {
   "cell_type": "code",
   "execution_count": 18,
   "id": "d1b8c7ae",
   "metadata": {},
   "outputs": [
    {
     "name": "stdout",
     "output_type": "stream",
     "text": [
      "[1, 2, 4, 5, 6]\n"
     ]
    }
   ],
   "source": [
    "l = [1,2,3,4,5,6]\n",
    "del l[2]\n",
    "print(l)"
   ]
  },
  {
   "cell_type": "code",
   "execution_count": 19,
   "id": "940396e6",
   "metadata": {},
   "outputs": [
    {
     "ename": "NameError",
     "evalue": "name 'l' is not defined",
     "output_type": "error",
     "traceback": [
      "\u001b[1;31m---------------------------------------------------------------------------\u001b[0m",
      "\u001b[1;31mNameError\u001b[0m                                 Traceback (most recent call last)",
      "\u001b[1;32m~\\AppData\\Local\\Temp/ipykernel_10208/629155008.py\u001b[0m in \u001b[0;36m<module>\u001b[1;34m\u001b[0m\n\u001b[0;32m      1\u001b[0m \u001b[1;32mdel\u001b[0m \u001b[0ml\u001b[0m\u001b[1;33m\u001b[0m\u001b[1;33m\u001b[0m\u001b[0m\n\u001b[1;32m----> 2\u001b[1;33m \u001b[0mprint\u001b[0m\u001b[1;33m(\u001b[0m\u001b[0ml\u001b[0m\u001b[1;33m)\u001b[0m\u001b[1;33m\u001b[0m\u001b[1;33m\u001b[0m\u001b[0m\n\u001b[0m",
      "\u001b[1;31mNameError\u001b[0m: name 'l' is not defined"
     ]
    }
   ],
   "source": [
    "del l\n",
    "print(l)"
   ]
  },
  {
   "cell_type": "markdown",
   "id": "734b6405",
   "metadata": {},
   "source": [
    "# Clear method:\n",
    "- it empties the list"
   ]
  },
  {
   "cell_type": "code",
   "execution_count": 21,
   "id": "075ad322",
   "metadata": {},
   "outputs": [
    {
     "name": "stdout",
     "output_type": "stream",
     "text": [
      "[]\n"
     ]
    }
   ],
   "source": [
    "l = [1,2,3,4,5,6]\n",
    "l.clear()\n",
    "print(l)"
   ]
  },
  {
   "cell_type": "markdown",
   "id": "9f839e02",
   "metadata": {},
   "source": [
    "# sort method:"
   ]
  },
  {
   "cell_type": "code",
   "execution_count": 22,
   "id": "5d9e2598",
   "metadata": {},
   "outputs": [
    {
     "name": "stdout",
     "output_type": "stream",
     "text": [
      "[1, 2, 3, 3, 4, 5, 5, 5, 7, 9, 21]\n"
     ]
    }
   ],
   "source": [
    "l = [2,3,1,4,5,21,5,3,5,7,9]\n",
    "l.sort()\n",
    "print(l)"
   ]
  },
  {
   "cell_type": "markdown",
   "id": "f3e4eb2d",
   "metadata": {},
   "source": [
    "# Reverse method"
   ]
  },
  {
   "cell_type": "code",
   "execution_count": 25,
   "id": "6a36b885",
   "metadata": {},
   "outputs": [
    {
     "name": "stdout",
     "output_type": "stream",
     "text": [
      "[6, 5, 4, 3, 2, 1]\n"
     ]
    }
   ],
   "source": [
    "l = [1,2,3,4,5,6]\n",
    "l.reverse()\n",
    "print(l)"
   ]
  },
  {
   "cell_type": "markdown",
   "id": "69d7ba66",
   "metadata": {},
   "source": [
    "# Copy method:\n"
   ]
  },
  {
   "cell_type": "code",
   "execution_count": 26,
   "id": "f007d9b2",
   "metadata": {},
   "outputs": [
    {
     "name": "stdout",
     "output_type": "stream",
     "text": [
      "[1, 2, 3, 4, 5, 6]\n"
     ]
    }
   ],
   "source": [
    "l = [1,2,3,4,5,6]\n",
    "l1 = l.copy()\n",
    "print(l1)"
   ]
  },
  {
   "cell_type": "markdown",
   "id": "d98c8b1c",
   "metadata": {},
   "source": [
    "# Count Method:"
   ]
  },
  {
   "cell_type": "code",
   "execution_count": 28,
   "id": "937b3876",
   "metadata": {},
   "outputs": [
    {
     "name": "stdout",
     "output_type": "stream",
     "text": [
      "3\n"
     ]
    }
   ],
   "source": [
    "l = [1,2,3,4,5,6,1,7,8,1]\n",
    "l1 = l.count(1)\n",
    "print(l1)"
   ]
  },
  {
   "cell_type": "markdown",
   "id": "a144237b",
   "metadata": {},
   "source": [
    "# Index method:\n"
   ]
  },
  {
   "cell_type": "code",
   "execution_count": 29,
   "id": "648e1497",
   "metadata": {},
   "outputs": [
    {
     "name": "stdout",
     "output_type": "stream",
     "text": [
      "4\n"
     ]
    }
   ],
   "source": [
    "l = [1,2,3,4,5,6]\n",
    "l1 = l.index(5)\n",
    "print(l1)"
   ]
  },
  {
   "cell_type": "markdown",
   "id": "98a267ec",
   "metadata": {},
   "source": [
    "# Functions in list"
   ]
  },
  {
   "cell_type": "code",
   "execution_count": 35,
   "id": "5885e8b3",
   "metadata": {},
   "outputs": [
    {
     "name": "stdout",
     "output_type": "stream",
     "text": [
      "6\n",
      "1\n",
      "6\n",
      "21\n",
      "3.5\n"
     ]
    }
   ],
   "source": [
    "l = [1,2,3,4,5,6]\n",
    "print(len(l))\n",
    "print(min(l))\n",
    "print(max(l))\n",
    "print(sum(l))\n",
    "print(sum(l)/len(l))"
   ]
  },
  {
   "cell_type": "code",
   "execution_count": null,
   "id": "e337fb6d",
   "metadata": {},
   "outputs": [],
   "source": []
  }
 ],
 "metadata": {
  "kernelspec": {
   "display_name": "Python 3 (ipykernel)",
   "language": "python",
   "name": "python3"
  },
  "language_info": {
   "codemirror_mode": {
    "name": "ipython",
    "version": 3
   },
   "file_extension": ".py",
   "mimetype": "text/x-python",
   "name": "python",
   "nbconvert_exporter": "python",
   "pygments_lexer": "ipython3",
   "version": "3.9.7"
  }
 },
 "nbformat": 4,
 "nbformat_minor": 5
}
