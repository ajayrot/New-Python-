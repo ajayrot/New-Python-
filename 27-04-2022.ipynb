{
 "cells": [
  {
   "cell_type": "markdown",
   "id": "a6f64243",
   "metadata": {},
   "source": [
    "# Python\n",
    "## Python\n",
    "### Python\n",
    "#### Python\n",
    "- Python1\n",
    "  - Python2\n",
    "  - Python3"
   ]
  },
  {
   "cell_type": "markdown",
   "id": "36e9349f",
   "metadata": {},
   "source": [
    "# Introduction TO Python\n",
    "- Web development\n",
    "- software\n"
   ]
  },
  {
   "cell_type": "markdown",
   "id": "c71e2931",
   "metadata": {},
   "source": [
    "# Print Function:\n",
    "- it will print statement\n"
   ]
  },
  {
   "cell_type": "code",
   "execution_count": 1,
   "id": "9f2b4e5f",
   "metadata": {},
   "outputs": [
    {
     "name": "stdout",
     "output_type": "stream",
     "text": [
      "Hello World\n"
     ]
    }
   ],
   "source": [
    "print(\"Hello World\")"
   ]
  },
  {
   "cell_type": "code",
   "execution_count": 3,
   "id": "6f6acc6b",
   "metadata": {},
   "outputs": [
    {
     "name": "stdout",
     "output_type": "stream",
     "text": [
      "one Two Three\n"
     ]
    }
   ],
   "source": [
    "print(\"one\",\"Two\",\"Three\")"
   ]
  },
  {
   "cell_type": "markdown",
   "id": "bf56a248",
   "metadata": {},
   "source": [
    "# variables:\n",
    "- To store some data values"
   ]
  },
  {
   "cell_type": "code",
   "execution_count": 4,
   "id": "ec5cdb6b",
   "metadata": {},
   "outputs": [
    {
     "name": "stdout",
     "output_type": "stream",
     "text": [
      "10\n"
     ]
    }
   ],
   "source": [
    "x = 10 # Single variables and single vaue\n",
    "print(x)"
   ]
  },
  {
   "cell_type": "code",
   "execution_count": 5,
   "id": "1ee093d8",
   "metadata": {},
   "outputs": [
    {
     "name": "stdout",
     "output_type": "stream",
     "text": [
      "10 10 10\n"
     ]
    }
   ],
   "source": [
    "x = y = z = 10 # Multiple variables and single value\n",
    "print(x,y,z)"
   ]
  },
  {
   "cell_type": "code",
   "execution_count": 6,
   "id": "b505a1be",
   "metadata": {},
   "outputs": [
    {
     "name": "stdout",
     "output_type": "stream",
     "text": [
      "10 20 30\n"
     ]
    }
   ],
   "source": [
    "x,y,z = 10,20,30 # Multiple variables and multiple values\n",
    "print(x,y,z)"
   ]
  },
  {
   "cell_type": "code",
   "execution_count": null,
   "id": "7556de05",
   "metadata": {},
   "outputs": [],
   "source": []
  }
 ],
 "metadata": {
  "kernelspec": {
   "display_name": "Python 3 (ipykernel)",
   "language": "python",
   "name": "python3"
  },
  "language_info": {
   "codemirror_mode": {
    "name": "ipython",
    "version": 3
   },
   "file_extension": ".py",
   "mimetype": "text/x-python",
   "name": "python",
   "nbconvert_exporter": "python",
   "pygments_lexer": "ipython3",
   "version": "3.9.7"
  }
 },
 "nbformat": 4,
 "nbformat_minor": 5
}
