{
 "cells": [
  {
   "cell_type": "markdown",
   "id": "bafe5b79",
   "metadata": {},
   "source": [
    "# Control Flow Statements:\n",
    "- Conditional Statements\n",
    "   - If eles statement\n",
    "- Looping Statements\n",
    "   - For loop statement\n",
    "   - While loop statement"
   ]
  },
  {
   "cell_type": "markdown",
   "id": "598363ae",
   "metadata": {},
   "source": [
    "# If else Statement:\n"
   ]
  },
  {
   "cell_type": "code",
   "execution_count": null,
   "id": "0ec2f16a",
   "metadata": {},
   "outputs": [],
   "source": [
    "# Syntax:\n",
    "if Boolean_condition:\n",
    "    statement\n",
    "else:\n",
    "    statement"
   ]
  },
  {
   "cell_type": "code",
   "execution_count": 1,
   "id": "dccd5227",
   "metadata": {},
   "outputs": [
    {
     "name": "stdout",
     "output_type": "stream",
     "text": [
      "enter a number :5\n",
      "odd number\n"
     ]
    }
   ],
   "source": [
    "# Check given number is even or odd\n",
    "n = int(input(\"enter a number :\"))\n",
    "if n%2 ==0:\n",
    "    print(\"Even Number\")\n",
    "else:\n",
    "    print(\"odd number\")"
   ]
  },
  {
   "cell_type": "code",
   "execution_count": 2,
   "id": "60f5377e",
   "metadata": {},
   "outputs": [
    {
     "name": "stdout",
     "output_type": "stream",
     "text": [
      "enter a number :15\n",
      "Yes\n"
     ]
    }
   ],
   "source": [
    "# Print given is multiples of both 3 and 5\n",
    "n = int(input(\"enter a number :\"))\n",
    "if n%3==0 and n%5==0:\n",
    "    print(\"Yes\")\n",
    "else:\n",
    "    print(\"No\")"
   ]
  },
  {
   "cell_type": "code",
   "execution_count": 7,
   "id": "bc92511e",
   "metadata": {},
   "outputs": [
    {
     "name": "stdout",
     "output_type": "stream",
     "text": [
      "enter a number :0\n",
      "Zero\n"
     ]
    }
   ],
   "source": [
    "# Check given is positive number ,negative number or zero\n",
    "n = int(input(\"enter a number :\"))\n",
    "if n>0:\n",
    "    print(\"Positive number\")\n",
    "elif n<0:\n",
    "    print(\"NEGATIVE nUMBER\")\n",
    "else :\n",
    "    print(\"Zero\")"
   ]
  },
  {
   "cell_type": "code",
   "execution_count": 10,
   "id": "9d8df594",
   "metadata": {},
   "outputs": [
    {
     "name": "stdout",
     "output_type": "stream",
     "text": [
      "enter a:8\n",
      "enter b:9\n",
      "enter c:11\n",
      "c is bigger no.\n"
     ]
    }
   ],
   "source": [
    "# Find large nunber from given 3 input number\n",
    "# a b c\n",
    "a=int(input(\"enter a:\"))\n",
    "b=int(input(\"enter b:\"))\n",
    "c=int(input(\"enter c:\"))\n",
    "if a>b and a>c:\n",
    "    print(\"a is bigger no\")\n",
    "elif b>c and b>a:\n",
    "    print(\"b is bigger no\")\n",
    "else:\n",
    "    print(\"c is bigger no.\")\n"
   ]
  },
  {
   "cell_type": "code",
   "execution_count": 11,
   "id": "eadbcc76",
   "metadata": {},
   "outputs": [
    {
     "name": "stdout",
     "output_type": "stream",
     "text": [
      "Enter A Grade47\n",
      "D grade\n"
     ]
    }
   ],
   "source": [
    "# Find Grading\n",
    "# Above 80 --A\n",
    "# 60 to 80 -- B\n",
    "# 50 to 60 -- C\n",
    "# 45 to 50 - D\n",
    "# 25 to 45 - E\n",
    "# Below 25 --F\n",
    "n = int(input(\"Enter A Grade :\"))\n",
    "if n >80:\n",
    "    print(\"A Grade\")\n",
    "elif n >= 60 and n <80:\n",
    "    print(\"B Grade\")\n",
    "elif n>= 50 and n<60:\n",
    "    print(\"C grade\")\n",
    "elif n>= 45 and n<50:\n",
    "    print(\"D grade\")\n",
    "elif n>=25 and n<45:\n",
    "    print(\"E grade\")\n",
    "else:\n",
    "    print(\"F grade\")"
   ]
  },
  {
   "cell_type": "code",
   "execution_count": null,
   "id": "2aa00798",
   "metadata": {},
   "outputs": [],
   "source": []
  }
 ],
 "metadata": {
  "kernelspec": {
   "display_name": "Python 3 (ipykernel)",
   "language": "python",
   "name": "python3"
  },
  "language_info": {
   "codemirror_mode": {
    "name": "ipython",
    "version": 3
   },
   "file_extension": ".py",
   "mimetype": "text/x-python",
   "name": "python",
   "nbconvert_exporter": "python",
   "pygments_lexer": "ipython3",
   "version": "3.9.7"
  }
 },
 "nbformat": 4,
 "nbformat_minor": 5
}
