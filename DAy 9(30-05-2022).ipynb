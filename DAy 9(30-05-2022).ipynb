{
 "cells": [
  {
   "cell_type": "code",
   "execution_count": 1,
   "id": "e74eb00a",
   "metadata": {},
   "outputs": [
    {
     "name": "stdout",
     "output_type": "stream",
     "text": [
      "1 2 3 4 5 6 7 8 9 10 11 12 13 14 15 16 17 18 19 20 21 22 23 24 25 26 27 28 29 30 31 32 33 34 35 36 37 38 39 40 41 42 43 44 45 46 47 48 49 50 "
     ]
    }
   ],
   "source": [
    "# print N natural numbers with for loop\n",
    "def natural_number(n):\n",
    "    for i in range(1,n+1):\n",
    "        print(i,end=\" \")\n",
    "natural_number(50)"
   ]
  },
  {
   "cell_type": "code",
   "execution_count": 2,
   "id": "d80819bf",
   "metadata": {},
   "outputs": [
    {
     "name": "stdout",
     "output_type": "stream",
     "text": [
      "1 2 3 4 5 6 7 8 9 10 "
     ]
    }
   ],
   "source": [
    "# input:1,10\n",
    "# output:1 2 3 4 5 6 7 8 9 10\n",
    "def series(s,e):\n",
    "    for i in range(s,e+1):\n",
    "        print(i,end=\" \")\n",
    "series(1,10)"
   ]
  },
  {
   "cell_type": "code",
   "execution_count": 3,
   "id": "a9984b69",
   "metadata": {},
   "outputs": [
    {
     "name": "stdout",
     "output_type": "stream",
     "text": [
      "32 33 34 35 36 37 38 39 40 41 42 43 44 45 46 47 48 49 50 51 52 53 54 55 56 57 58 59 60 61 62 63 64 65 66 67 68 69 70 71 72 73 74 75 76 77 78 79 80 81 82 83 84 85 86 87 88 89 90 91 92 93 94 95 96 97 98 "
     ]
    }
   ],
   "source": [
    "series(32,98)"
   ]
  },
  {
   "cell_type": "markdown",
   "id": "13d4c0b8",
   "metadata": {},
   "source": [
    "# Dictionary:\n",
    "## Contact Application:\n",
    "\n",
    "- Add Contacts\n",
    "- search contacts\n",
    "- Delete Contacts\n",
    "- merge contacts\n",
    "- sort contacts"
   ]
  },
  {
   "cell_type": "code",
   "execution_count": 4,
   "id": "a61417c9",
   "metadata": {},
   "outputs": [
    {
     "name": "stdout",
     "output_type": "stream",
     "text": [
      "contacts is added\n"
     ]
    }
   ],
   "source": [
    "# Add contacts\n",
    "contacts = {}\n",
    "def addcontacts(name,number):\n",
    "    if name not in contacts:\n",
    "        contacts[name]= number\n",
    "        print(\"contacts is added\")\n",
    "    else:\n",
    "        print(\"Contact already exist\")\n",
    "addcontacts(\"AJay\",\"34354684\")\n",
    "        "
   ]
  },
  {
   "cell_type": "code",
   "execution_count": 5,
   "id": "fa9fd19a",
   "metadata": {},
   "outputs": [
    {
     "data": {
      "text/plain": [
       "{'AJay': '34354684'}"
      ]
     },
     "execution_count": 5,
     "metadata": {},
     "output_type": "execute_result"
    }
   ],
   "source": [
    "contacts"
   ]
  },
  {
   "cell_type": "code",
   "execution_count": 6,
   "id": "3640c037",
   "metadata": {},
   "outputs": [
    {
     "name": "stdout",
     "output_type": "stream",
     "text": [
      "AJay : 34354684\n"
     ]
    }
   ],
   "source": [
    "# Search Conatcs:\n",
    "def search(name):\n",
    "    if name in contacts:\n",
    "        print(name,\":\",contacts[name])\n",
    "    else:\n",
    "        print(\"Contacts not exist\")\n",
    "search(\"AJay\")"
   ]
  },
  {
   "cell_type": "code",
   "execution_count": 7,
   "id": "879e3208",
   "metadata": {},
   "outputs": [
    {
     "name": "stdout",
     "output_type": "stream",
     "text": [
      "Contact is deleted\n"
     ]
    }
   ],
   "source": [
    "# Delete contacts:\n",
    "def delete(name):\n",
    "    if name in contacts:\n",
    "        del contacts[name]\n",
    "        print(\"Contact is deleted\")\n",
    "    else:\n",
    "        print(\"Contacts not found\")\n",
    "delete(\"AJay\")"
   ]
  },
  {
   "cell_type": "code",
   "execution_count": 8,
   "id": "db8d42de",
   "metadata": {},
   "outputs": [
    {
     "data": {
      "text/plain": [
       "{}"
      ]
     },
     "execution_count": 8,
     "metadata": {},
     "output_type": "execute_result"
    }
   ],
   "source": [
    "contacts"
   ]
  },
  {
   "cell_type": "code",
   "execution_count": 10,
   "id": "0135cd9f",
   "metadata": {},
   "outputs": [
    {
     "name": "stdout",
     "output_type": "stream",
     "text": [
      "3 conatcs are added\n"
     ]
    }
   ],
   "source": [
    "# Merge contact\n",
    "def merge(newcontacts):\n",
    "    contacts.update(newcontacts)\n",
    "    print(len(newcontacts.keys()),\"conatcs are added\")\n",
    "newcontacts ={\"Raj\":\"55555555\",\"Tarun\":\"664654654\",\"Venu\":\"964464\"}\n",
    "merge(newcontacts)"
   ]
  },
  {
   "cell_type": "code",
   "execution_count": 11,
   "id": "232214fc",
   "metadata": {},
   "outputs": [
    {
     "data": {
      "text/plain": [
       "{'Raj': '55555555', 'Tarun': '664654654', 'Venu': '964464'}"
      ]
     },
     "execution_count": 11,
     "metadata": {},
     "output_type": "execute_result"
    }
   ],
   "source": [
    "contacts"
   ]
  },
  {
   "cell_type": "code",
   "execution_count": 21,
   "id": "50fd6074",
   "metadata": {},
   "outputs": [
    {
     "name": "stdout",
     "output_type": "stream",
     "text": [
      "key= Raj || value= 55555555\n",
      "key= Tarun || value= 664654654\n",
      "key= Venu || value= 964464\n"
     ]
    }
   ],
   "source": [
    "# Sort Contacts\n",
    "def sortname(contacts):\n",
    "    for key in sorted(contacts.keys()):\n",
    "         print('key=',key,'||',\"value=\",contacts[key])\n",
    "sortname(contacts)"
   ]
  },
  {
   "cell_type": "code",
   "execution_count": null,
   "id": "57294016",
   "metadata": {},
   "outputs": [],
   "source": []
  }
 ],
 "metadata": {
  "kernelspec": {
   "display_name": "Python 3 (ipykernel)",
   "language": "python",
   "name": "python3"
  },
  "language_info": {
   "codemirror_mode": {
    "name": "ipython",
    "version": 3
   },
   "file_extension": ".py",
   "mimetype": "text/x-python",
   "name": "python",
   "nbconvert_exporter": "python",
   "pygments_lexer": "ipython3",
   "version": "3.9.7"
  }
 },
 "nbformat": 4,
 "nbformat_minor": 5
}
