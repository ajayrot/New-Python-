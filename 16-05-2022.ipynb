{
 "cells": [
  {
   "cell_type": "markdown",
   "id": "64fa75ec",
   "metadata": {},
   "source": [
    "# For Loop Statement:\n"
   ]
  },
  {
   "cell_type": "code",
   "execution_count": null,
   "id": "884b36d5",
   "metadata": {},
   "outputs": [],
   "source": [
    "# Syntax:\n",
    "for <local variable> in <objectname>:\n",
    "    statement"
   ]
  },
  {
   "cell_type": "code",
   "execution_count": 2,
   "id": "59c37222",
   "metadata": {},
   "outputs": [
    {
     "name": "stdout",
     "output_type": "stream",
     "text": [
      "0 1 2 3 4 5 6 7 8 9 10 "
     ]
    }
   ],
   "source": [
    "# 0 1 2 3 4 5 6 7 8 9 10\n",
    "for i in range(11):\n",
    "    print(i,end=\" \")"
   ]
  },
  {
   "cell_type": "code",
   "execution_count": 3,
   "id": "c025bd88",
   "metadata": {},
   "outputs": [
    {
     "name": "stdout",
     "output_type": "stream",
     "text": [
      "1 2 3 4 5 6 7 8 9 10 "
     ]
    }
   ],
   "source": [
    "for i in range(1,11):\n",
    "    print(i,end=\" \")"
   ]
  },
  {
   "cell_type": "code",
   "execution_count": 4,
   "id": "2ed38ed2",
   "metadata": {},
   "outputs": [
    {
     "name": "stdout",
     "output_type": "stream",
     "text": [
      "1 3 5 7 9 "
     ]
    }
   ],
   "source": [
    "# print odd number\n",
    "for i in range(1,11,2):\n",
    "    print(i,end=\" \")"
   ]
  },
  {
   "cell_type": "code",
   "execution_count": 5,
   "id": "3f524614",
   "metadata": {},
   "outputs": [
    {
     "name": "stdout",
     "output_type": "stream",
     "text": [
      "10 9 8 7 6 5 4 3 2 1 "
     ]
    }
   ],
   "source": [
    "for i in range(10,0,-1):\n",
    "    print(i,end=\" \")"
   ]
  },
  {
   "cell_type": "code",
   "execution_count": 6,
   "id": "1f0baeb5",
   "metadata": {},
   "outputs": [
    {
     "name": "stdout",
     "output_type": "stream",
     "text": [
      "-30 -29 -28 -27 -26 -25 -24 -23 -22 -21 -20 -19 -18 -17 -16 -15 -14 -13 -12 -11 "
     ]
    }
   ],
   "source": [
    "for i in range(-30,-10,1):\n",
    "    print(i,end=\" \")"
   ]
  },
  {
   "cell_type": "code",
   "execution_count": 8,
   "id": "cd455afd",
   "metadata": {},
   "outputs": [
    {
     "name": "stdout",
     "output_type": "stream",
     "text": [
      "enter a sentence :Python is Simple Programming LANGUAGE\n",
      "o i i e o a i A U A E "
     ]
    }
   ],
   "source": [
    "# print vowels from given sentance\n",
    "sentence = input(\"enter a sentence :\")\n",
    "vowels =\"aeiouAEIOU\"\n",
    "for i in sentence:\n",
    "    if i in vowels:\n",
    "        print(i,end=\" \")\n",
    "    "
   ]
  },
  {
   "cell_type": "code",
   "execution_count": 10,
   "id": "ac922483",
   "metadata": {},
   "outputs": [
    {
     "name": "stdout",
     "output_type": "stream",
     "text": [
      "100\n",
      "sum is : 5050\n"
     ]
    }
   ],
   "source": [
    "# FROM 1 TO 100 calciate sum of all number\n",
    "n = int(input())\n",
    "s = 0 # to store sum of all number\n",
    "for i in range(1,n+1,1):\n",
    "    s += i # s+i = i\n",
    "print(\"sum is :\",s)"
   ]
  },
  {
   "cell_type": "code",
   "execution_count": 13,
   "id": "1b187883",
   "metadata": {},
   "outputs": [
    {
     "name": "stdout",
     "output_type": "stream",
     "text": [
      "100\n",
      "sum is : 5050\n"
     ]
    }
   ],
   "source": [
    "n = int(input())\n",
    "x = sum(range(1,n+1))\n",
    "print(\"sum is :\",x)"
   ]
  },
  {
   "cell_type": "code",
   "execution_count": 16,
   "id": "46c2ab21",
   "metadata": {},
   "outputs": [
    {
     "name": "stdout",
     "output_type": "stream",
     "text": [
      "100\n",
      "100 * 1 = 100\n",
      "100 * 2 = 200\n",
      "100 * 3 = 300\n",
      "100 * 4 = 400\n",
      "100 * 5 = 500\n",
      "100 * 6 = 600\n",
      "100 * 7 = 700\n",
      "100 * 8 = 800\n",
      "100 * 9 = 900\n",
      "100 * 10 = 1000\n"
     ]
    }
   ],
   "source": [
    "# input: 6\n",
    "# output:\n",
    "# 6*1=6\n",
    "# 6*2= 12\n",
    "# 6 *10 = 60\n",
    "n = int(input())\n",
    "for i in range(1,11):\n",
    "    print(n,\"*\",i,\"=\",n*i)"
   ]
  },
  {
   "cell_type": "code",
   "execution_count": null,
   "id": "df9bea1d",
   "metadata": {},
   "outputs": [],
   "source": []
  }
 ],
 "metadata": {
  "kernelspec": {
   "display_name": "Python 3 (ipykernel)",
   "language": "python",
   "name": "python3"
  },
  "language_info": {
   "codemirror_mode": {
    "name": "ipython",
    "version": 3
   },
   "file_extension": ".py",
   "mimetype": "text/x-python",
   "name": "python",
   "nbconvert_exporter": "python",
   "pygments_lexer": "ipython3",
   "version": "3.9.7"
  }
 },
 "nbformat": 4,
 "nbformat_minor": 5
}
