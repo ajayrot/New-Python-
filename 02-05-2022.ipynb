{
 "cells": [
  {
   "cell_type": "markdown",
   "id": "720cc7ef",
   "metadata": {},
   "source": [
    "# Python Operators:\n",
    "- Used to perform Operations on variables and values"
   ]
  },
  {
   "cell_type": "markdown",
   "id": "0278ee83",
   "metadata": {},
   "source": [
    "# Arithematic Operator:\n",
    "- used with numeric values to perform  mathematical operations:\n",
    "\n",
    "* Operator:\n",
    "   - **+**\n",
    "   - **-**\n",
    "   - **'*'**\n",
    "   - **/**\n",
    "   - **\n",
    "   - **%**\n",
    "   - **//**"
   ]
  },
  {
   "cell_type": "code",
   "execution_count": 2,
   "id": "611f80cb",
   "metadata": {},
   "outputs": [
    {
     "name": "stdout",
     "output_type": "stream",
     "text": [
      "15\n",
      "5\n",
      "50\n",
      "2.0\n",
      "100000\n",
      "0\n",
      "2\n"
     ]
    }
   ],
   "source": [
    "x = 10\n",
    "y = 5\n",
    "print(x+y)\n",
    "print(x-y)\n",
    "print(x*y)\n",
    "print(x/y)\n",
    "print(x**y)\n",
    "print(x%y)\n",
    "print(x//y)"
   ]
  },
  {
   "cell_type": "markdown",
   "id": "bb265dea",
   "metadata": {},
   "source": [
    "# Assignment Operator:\n",
    "- Used to assign values to variables\n",
    "- Operator:\n",
    "  - **=**\n",
    "  - **+=**\n",
    "  - **-=**\n",
    "  - ***=**\n",
    "  - **/=**\n",
    "  - %=\n",
    "  - //="
   ]
  },
  {
   "cell_type": "code",
   "execution_count": 7,
   "id": "3b301f39",
   "metadata": {},
   "outputs": [
    {
     "name": "stdout",
     "output_type": "stream",
     "text": [
      "7\n",
      "5\n",
      "10\n",
      "5.0\n"
     ]
    }
   ],
   "source": [
    "x = 3\n",
    "x += 4 # x = x+4\n",
    "print(x)\n",
    "x -= 2\n",
    "print(x)\n",
    "x *= 2\n",
    "print(x)\n",
    "x /= 2\n",
    "print(x)"
   ]
  },
  {
   "cell_type": "markdown",
   "id": "6b863bdd",
   "metadata": {},
   "source": [
    "# Comparision Operator:\n",
    "- Used to compare 2 values\n",
    "- Operator:\n",
    "  - **==**\n",
    "  - **!=**\n",
    "  - **<**\n",
    "  - **>**\n",
    "  - **<=**\n",
    "  - **>=**"
   ]
  },
  {
   "cell_type": "code",
   "execution_count": 13,
   "id": "8a3ebc4d",
   "metadata": {},
   "outputs": [
    {
     "name": "stdout",
     "output_type": "stream",
     "text": [
      "False\n",
      "True\n",
      "True\n",
      "False\n",
      "True\n",
      "False\n"
     ]
    }
   ],
   "source": [
    "x = 4\n",
    "y = 8\n",
    "print(x ==y)\n",
    "print(x !=y)\n",
    "print(x <y)\n",
    "print(x >y)\n",
    "print(x<=y)\n",
    "print(x>=y)"
   ]
  },
  {
   "cell_type": "markdown",
   "id": "2f2f1416",
   "metadata": {},
   "source": [
    "# Logical Operator:\n",
    "- used to combine conditional statements\n",
    "- **and**\n",
    "- **or**\n",
    "- **not**"
   ]
  },
  {
   "cell_type": "code",
   "execution_count": 18,
   "id": "d3830948",
   "metadata": {},
   "outputs": [
    {
     "name": "stdout",
     "output_type": "stream",
     "text": [
      "True\n",
      "True\n",
      "False\n"
     ]
    }
   ],
   "source": [
    "x = 6\n",
    "print(x<9 and x>3)\n",
    "print(x<9 or x>3)\n",
    "print(not(x<9 and x>3))\n"
   ]
  },
  {
   "cell_type": "markdown",
   "id": "1d308900",
   "metadata": {},
   "source": [
    "# Identity Operator:\n",
    "- used to compare objects\n",
    "- **is**\n",
    "- **is not**"
   ]
  },
  {
   "cell_type": "code",
   "execution_count": 21,
   "id": "bc84d50c",
   "metadata": {},
   "outputs": [
    {
     "name": "stdout",
     "output_type": "stream",
     "text": [
      "False\n",
      "True\n"
     ]
    }
   ],
   "source": [
    "a = 3\n",
    "b = 4\n",
    "c = 6\n",
    "print(a is b)\n",
    "print(a is not c)"
   ]
  },
  {
   "cell_type": "markdown",
   "id": "a8e5f3de",
   "metadata": {},
   "source": [
    "# Memebership Operator:\n",
    "- Used to test given sequence presnted in object\n",
    "- **in**\n",
    "- **not in**"
   ]
  },
  {
   "cell_type": "code",
   "execution_count": 25,
   "id": "31def124",
   "metadata": {},
   "outputs": [
    {
     "name": "stdout",
     "output_type": "stream",
     "text": [
      "True\n",
      "True\n",
      "False\n",
      "True\n"
     ]
    }
   ],
   "source": [
    "x = \"Python\"\n",
    "print('y' in x)\n",
    "print('Py' in x)\n",
    "print('Pt' in x)\n",
    "print('Q' not in x)"
   ]
  },
  {
   "cell_type": "code",
   "execution_count": null,
   "id": "134623c8",
   "metadata": {},
   "outputs": [],
   "source": []
  }
 ],
 "metadata": {
  "kernelspec": {
   "display_name": "Python 3 (ipykernel)",
   "language": "python",
   "name": "python3"
  },
  "language_info": {
   "codemirror_mode": {
    "name": "ipython",
    "version": 3
   },
   "file_extension": ".py",
   "mimetype": "text/x-python",
   "name": "python",
   "nbconvert_exporter": "python",
   "pygments_lexer": "ipython3",
   "version": "3.9.7"
  }
 },
 "nbformat": 4,
 "nbformat_minor": 5
}
