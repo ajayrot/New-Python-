{
 "cells": [
  {
   "cell_type": "code",
   "execution_count": 3,
   "id": "9f180669",
   "metadata": {},
   "outputs": [
    {
     "name": "stdout",
     "output_type": "stream",
     "text": [
      "File is created\n"
     ]
    }
   ],
   "source": [
    "# Function to create a file and write to file\n",
    "def createfile(filename):\n",
    "    f = open(filename,\"w\")\n",
    "    for i in range(10):\n",
    "        f.write(\"Hello world \\n\")\n",
    "    print(\"File is created\")\n",
    "createfile(\"file.txt\")"
   ]
  },
  {
   "cell_type": "code",
   "execution_count": 11,
   "id": "13e01d2f",
   "metadata": {},
   "outputs": [
    {
     "name": "stdout",
     "output_type": "stream",
     "text": [
      "File is cretaed\n"
     ]
    }
   ],
   "source": [
    "# append\n",
    "def append(filename):\n",
    "    f = open(filename,\"a\")\n",
    "    for i in range(10):\n",
    "                f.write(\"This is line \\n\")\n",
    "    print(\"File is cretaed\")\n",
    "append(\"file.txt\")"
   ]
  },
  {
   "cell_type": "code",
   "execution_count": 12,
   "id": "4e2d4c54",
   "metadata": {},
   "outputs": [
    {
     "name": "stdout",
     "output_type": "stream",
     "text": [
      "File is cretaed\n"
     ]
    }
   ],
   "source": [
    "append(\"text.txt\")"
   ]
  },
  {
   "cell_type": "code",
   "execution_count": 14,
   "id": "62dde151",
   "metadata": {},
   "outputs": [
    {
     "name": "stdout",
     "output_type": "stream",
     "text": [
      "Welcome to file handling\n",
      "this is 1 st line\n",
      "this 2 line\n",
      "this 3 line\n",
      "this 4 line\n",
      "this 5 line This is line \n",
      "This is line \n",
      "This is line \n",
      "This is line \n",
      "This is line \n",
      "This is line \n",
      "This is line \n",
      "This is line \n",
      "This is line \n",
      "This is line \n",
      "\n"
     ]
    }
   ],
   "source": [
    "# Read a file:\n",
    "def readfile(filename):\n",
    "    with open(filename,\"r\") as f:\n",
    "        if f.mode == \"r\":\n",
    "            x = f.read()\n",
    "            print(x)\n",
    "readfile(\"text.txt\")\n",
    "        "
   ]
  },
  {
   "cell_type": "code",
   "execution_count": 15,
   "id": "9635695e",
   "metadata": {},
   "outputs": [
    {
     "name": "stdout",
     "output_type": "stream",
     "text": [
      "Hello world \n",
      "Hello world \n",
      "Hello world \n",
      "Hello world \n",
      "Hello world \n",
      "Hello world \n",
      "Hello world \n",
      "Hello world \n",
      "Hello world \n",
      "Hello world \n",
      "This is lineThis is lineThis is lineThis is lineThis is lineThis is lineThis is lineThis is lineThis is lineThis is lineThis is line \n",
      "This is line \n",
      "This is line \n",
      "This is line \n",
      "This is line \n",
      "This is line \n",
      "This is line \n",
      "This is line \n",
      "This is line \n",
      "This is line \n",
      "\n"
     ]
    }
   ],
   "source": [
    "readfile(\"file.txt\")\n"
   ]
  },
  {
   "cell_type": "code",
   "execution_count": 17,
   "id": "01282c59",
   "metadata": {},
   "outputs": [
    {
     "data": {
      "text/plain": [
       "70"
      ]
     },
     "execution_count": 17,
     "metadata": {},
     "output_type": "execute_result"
    }
   ],
   "source": [
    "# String method- split\n",
    "# Word count from file\n",
    "def wordcount(filename):\n",
    "    with open(filename,\"r\") as f:\n",
    "        if f.mode ==\"r\":\n",
    "            x = f.read()\n",
    "            l = x.split()\n",
    "        return len(l)\n",
    "wordcount(\"file.txt\")"
   ]
  },
  {
   "cell_type": "code",
   "execution_count": 18,
   "id": "3ec5cc63",
   "metadata": {},
   "outputs": [
    {
     "data": {
      "text/plain": [
       "51"
      ]
     },
     "execution_count": 18,
     "metadata": {},
     "output_type": "execute_result"
    }
   ],
   "source": [
    "wordcount(\"text.txt\")"
   ]
  },
  {
   "cell_type": "code",
   "execution_count": 21,
   "id": "a8cee410",
   "metadata": {},
   "outputs": [
    {
     "data": {
      "text/plain": [
       "10"
      ]
     },
     "execution_count": 21,
     "metadata": {},
     "output_type": "execute_result"
    }
   ],
   "source": [
    "# Specific word count\n",
    "def count(filename,word):\n",
    "    with open(filename,\"r\") as f:\n",
    "        if f.mode ==\"r\":\n",
    "            x =f.read()\n",
    "            l = x.split()\n",
    "        return l.count(word)\n",
    "count(\"file.txt\",\"line\")"
   ]
  },
  {
   "cell_type": "code",
   "execution_count": null,
   "id": "b0db5ecb",
   "metadata": {},
   "outputs": [],
   "source": []
  }
 ],
 "metadata": {
  "kernelspec": {
   "display_name": "Python 3 (ipykernel)",
   "language": "python",
   "name": "python3"
  },
  "language_info": {
   "codemirror_mode": {
    "name": "ipython",
    "version": 3
   },
   "file_extension": ".py",
   "mimetype": "text/x-python",
   "name": "python",
   "nbconvert_exporter": "python",
   "pygments_lexer": "ipython3",
   "version": "3.9.7"
  }
 },
 "nbformat": 4,
 "nbformat_minor": 5
}
