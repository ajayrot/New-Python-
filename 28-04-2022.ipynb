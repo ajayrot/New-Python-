{
 "cells": [
  {
   "cell_type": "markdown",
   "id": "4b6da8e0",
   "metadata": {},
   "source": [
    "# Input Function:\n",
    "- Reads input from user"
   ]
  },
  {
   "cell_type": "code",
   "execution_count": 1,
   "id": "45af802b",
   "metadata": {},
   "outputs": [
    {
     "name": "stdout",
     "output_type": "stream",
     "text": [
      "Enter a name :Ajay\n",
      "Ajay\n"
     ]
    }
   ],
   "source": [
    "# Input as Text\n",
    "x = input(\"Enter a name :\")\n",
    "print(x)"
   ]
  },
  {
   "cell_type": "code",
   "execution_count": 2,
   "id": "5903ab58",
   "metadata": {},
   "outputs": [
    {
     "name": "stdout",
     "output_type": "stream",
     "text": [
      "Enter a number :10\n",
      "10\n"
     ]
    }
   ],
   "source": [
    "# Inout as number'\n",
    "a = input(\"Enter a number :\")\n",
    "print(a)\n"
   ]
  },
  {
   "cell_type": "markdown",
   "id": "5234defe",
   "metadata": {},
   "source": [
    "# Data Types:\n",
    "- Integer\n",
    "- String\n",
    "- Flaot"
   ]
  },
  {
   "cell_type": "code",
   "execution_count": 4,
   "id": "b6549113",
   "metadata": {},
   "outputs": [
    {
     "name": "stdout",
     "output_type": "stream",
     "text": [
      "1\n",
      "<class 'int'>\n"
     ]
    }
   ],
   "source": [
    "# integer\n",
    "a = 1\n",
    "print(a)\n",
    "print(type(a))"
   ]
  },
  {
   "cell_type": "code",
   "execution_count": 5,
   "id": "ad97c794",
   "metadata": {},
   "outputs": [
    {
     "name": "stdout",
     "output_type": "stream",
     "text": [
      "Python <class 'str'>\n"
     ]
    }
   ],
   "source": [
    "# String\n",
    "s = \"Python\"\n",
    "print(s,type(s))\n"
   ]
  },
  {
   "cell_type": "code",
   "execution_count": 6,
   "id": "2155c528",
   "metadata": {},
   "outputs": [
    {
     "name": "stdout",
     "output_type": "stream",
     "text": [
      "1.2 <class 'float'>\n"
     ]
    }
   ],
   "source": [
    "# Float\n",
    "f = 1.2\n",
    "print(f,type(f))"
   ]
  },
  {
   "cell_type": "markdown",
   "id": "8d13f582",
   "metadata": {},
   "source": [
    "# Data type conversions\n",
    "- Interger --> int()\n",
    "- string   --> str()\n",
    "- float    -->float()"
   ]
  },
  {
   "cell_type": "code",
   "execution_count": 11,
   "id": "87ac4978",
   "metadata": {},
   "outputs": [
    {
     "name": "stdout",
     "output_type": "stream",
     "text": [
      "12 <class 'int'>\n",
      "12 <class 'str'>\n",
      "12.0 <class 'float'>\n"
     ]
    }
   ],
   "source": [
    "# Integer\n",
    "n = 12\n",
    "print(n,type(n))\n",
    "s = str(n)\n",
    "print(s,type(s))\n",
    "f = float(n)\n",
    "print(f,type(f))"
   ]
  },
  {
   "cell_type": "code",
   "execution_count": 15,
   "id": "c7d8faba",
   "metadata": {},
   "outputs": [
    {
     "name": "stdout",
     "output_type": "stream",
     "text": [
      "123456 <class 'str'>\n",
      "123456 <class 'int'>\n",
      "123456.0 <class 'float'>\n"
     ]
    }
   ],
   "source": [
    "# string\n",
    "s = '123456'\n",
    "print(s,type(s))\n",
    "n = int(s)\n",
    "print(n,type(n))\n",
    "f = float(s)\n",
    "print(f,type(f))"
   ]
  },
  {
   "cell_type": "code",
   "execution_count": 18,
   "id": "2523a41e",
   "metadata": {},
   "outputs": [
    {
     "name": "stdout",
     "output_type": "stream",
     "text": [
      "12.2 <class 'float'>\n",
      "12 <class 'int'>\n",
      "12.2 <class 'str'>\n"
     ]
    }
   ],
   "source": [
    "# Float \n",
    "f = 12.2\n",
    "print(f,type(f))\n",
    "n = int(f)\n",
    "print(n,type(n))\n",
    "s = str(f)\n",
    "print(s,type(s))"
   ]
  },
  {
   "cell_type": "code",
   "execution_count": null,
   "id": "e4e2c017",
   "metadata": {},
   "outputs": [],
   "source": []
  }
 ],
 "metadata": {
  "kernelspec": {
   "display_name": "Python 3 (ipykernel)",
   "language": "python",
   "name": "python3"
  },
  "language_info": {
   "codemirror_mode": {
    "name": "ipython",
    "version": 3
   },
   "file_extension": ".py",
   "mimetype": "text/x-python",
   "name": "python",
   "nbconvert_exporter": "python",
   "pygments_lexer": "ipython3",
   "version": "3.9.7"
  }
 },
 "nbformat": 4,
 "nbformat_minor": 5
}
