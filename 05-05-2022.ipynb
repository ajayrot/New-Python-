{
 "cells": [
  {
   "cell_type": "markdown",
   "id": "2768bf71",
   "metadata": {},
   "source": [
    "# Looping Statements:\n",
    "- While loop Statement\n",
    "    - It allows a programmaer to repeat a single statement or s gruop of statements for true condition.\n",
    "\n",
    "- For loop Statement:\n",
    "    - To Excute a sequence of statements several times"
   ]
  },
  {
   "cell_type": "markdown",
   "id": "ff5ab837",
   "metadata": {},
   "source": [
    "# While loop:\n"
   ]
  },
  {
   "cell_type": "code",
   "execution_count": null,
   "id": "699deff8",
   "metadata": {},
   "outputs": [],
   "source": [
    "# Syntax:\n",
    "while Boolean_condition:\n",
    "    Statement\n",
    "    increment/Decrement"
   ]
  },
  {
   "cell_type": "code",
   "execution_count": 2,
   "id": "9dccfe7d",
   "metadata": {},
   "outputs": [
    {
     "name": "stdout",
     "output_type": "stream",
     "text": [
      "Python\n",
      "Python\n",
      "Python\n",
      "Python\n",
      "Python\n"
     ]
    }
   ],
   "source": [
    "# Print \"Python\"  5 times\n",
    "print(\"Python\")\n",
    "print(\"Python\")\n",
    "print(\"Python\")\n",
    "print(\"Python\")\n",
    "print(\"Python\")"
   ]
  },
  {
   "cell_type": "code",
   "execution_count": 3,
   "id": "0f97d82c",
   "metadata": {},
   "outputs": [
    {
     "name": "stdout",
     "output_type": "stream",
     "text": [
      "Python\n",
      "Python\n",
      "Python\n",
      "Python\n",
      "Python\n"
     ]
    }
   ],
   "source": [
    "i = 0\n",
    "while i<5:\n",
    "    print(\"Python\")\n",
    "    i +=1"
   ]
  },
  {
   "cell_type": "code",
   "execution_count": 11,
   "id": "4250385e",
   "metadata": {},
   "outputs": [
    {
     "name": "stdout",
     "output_type": "stream",
     "text": [
      "1 2 3 4 5 6 7 8 9 10 "
     ]
    }
   ],
   "source": [
    "# 1 2 3 4 5 \n",
    "i =1\n",
    "while i <=10:\n",
    "    print(i,end =\" \")\n",
    "    i +=1"
   ]
  },
  {
   "cell_type": "code",
   "execution_count": 7,
   "id": "462608bd",
   "metadata": {},
   "outputs": [
    {
     "name": "stdout",
     "output_type": "stream",
     "text": [
      "2 4 6 8 10 "
     ]
    }
   ],
   "source": [
    "# 1 to 10\n",
    "# Print Even numbers\n",
    "i = 1\n",
    "while i <=10:\n",
    "    if i %2 ==0:\n",
    "        print(i,end=\" \")\n",
    "    i +=1"
   ]
  },
  {
   "cell_type": "code",
   "execution_count": 9,
   "id": "8255b142",
   "metadata": {},
   "outputs": [
    {
     "name": "stdout",
     "output_type": "stream",
     "text": [
      "12\n",
      "1 2 3 4 6 12 "
     ]
    }
   ],
   "source": [
    "# 6 - 1 2 3 6\n",
    "# 12 - 1 2 3 4 6 12\n",
    "n = int(input())\n",
    "i = 1\n",
    "while i <=n:\n",
    "    if n % i ==0:\n",
    "        print(i,end= \" \")\n",
    "    i +=1"
   ]
  },
  {
   "cell_type": "code",
   "execution_count": 10,
   "id": "487ae5eb",
   "metadata": {},
   "outputs": [
    {
     "name": "stdout",
     "output_type": "stream",
     "text": [
      "123\n",
      "3 2 1 "
     ]
    }
   ],
   "source": [
    "# 123\n",
    "# 321\n",
    "n = int(input())\n",
    "while n !=0:\n",
    "    print(n%10,end=\" \")\n",
    "    n = n//10"
   ]
  },
  {
   "cell_type": "code",
   "execution_count": 12,
   "id": "9b180cfc",
   "metadata": {},
   "outputs": [
    {
     "name": "stdout",
     "output_type": "stream",
     "text": [
      "10\n",
      "10 9 8 7 6 5 4 3 2 1 "
     ]
    }
   ],
   "source": [
    "# 10 9 8 7 6 5 4 3 2 1\n",
    "# input = 10\n",
    "n = int(input())\n",
    "i = 1\n",
    "while n>= i:\n",
    "    print(n,end =\" \")\n",
    "    n = n-1"
   ]
  },
  {
   "cell_type": "code",
   "execution_count": 13,
   "id": "af3061b8",
   "metadata": {},
   "outputs": [
    {
     "name": "stdout",
     "output_type": "stream",
     "text": [
      "6534986\n",
      "7\n"
     ]
    }
   ],
   "source": [
    "# input : 56464\n",
    "# o/p: 5\n",
    "n = int(input())\n",
    "c = 0\n",
    "while n !=0:\n",
    "    n = n//10\n",
    "    c = c+1\n",
    "print(c)"
   ]
  },
  {
   "cell_type": "markdown",
   "id": "14a6900b",
   "metadata": {},
   "source": [
    "# Break Statement:\n",
    "- we can stop the loop even if the while condition is true"
   ]
  },
  {
   "cell_type": "code",
   "execution_count": 15,
   "id": "e53744a5",
   "metadata": {},
   "outputs": [
    {
     "name": "stdout",
     "output_type": "stream",
     "text": [
      "1 2 3 4 "
     ]
    }
   ],
   "source": [
    "i = 1\n",
    "while i <10:\n",
    "    print(i,end=\" \")\n",
    "    if i == 4:\n",
    "        break\n",
    "    i +=1"
   ]
  },
  {
   "cell_type": "markdown",
   "id": "45f02b76",
   "metadata": {},
   "source": [
    "# Continue Statement:\n",
    "- We can stop the current iteration and continue with next "
   ]
  },
  {
   "cell_type": "code",
   "execution_count": 2,
   "id": "fad94ded",
   "metadata": {},
   "outputs": [
    {
     "name": "stdout",
     "output_type": "stream",
     "text": [
      "1 2 3 5 6 7 8 9 10 "
     ]
    }
   ],
   "source": [
    "i = 0\n",
    "while i <10:\n",
    "    i +=1\n",
    "    if i == 4:\n",
    "        continue\n",
    "    print(i,end=\" \")"
   ]
  },
  {
   "cell_type": "code",
   "execution_count": null,
   "id": "02606531",
   "metadata": {},
   "outputs": [],
   "source": []
  }
 ],
 "metadata": {
  "kernelspec": {
   "display_name": "Python 3 (ipykernel)",
   "language": "python",
   "name": "python3"
  },
  "language_info": {
   "codemirror_mode": {
    "name": "ipython",
    "version": 3
   },
   "file_extension": ".py",
   "mimetype": "text/x-python",
   "name": "python",
   "nbconvert_exporter": "python",
   "pygments_lexer": "ipython3",
   "version": "3.9.7"
  }
 },
 "nbformat": 4,
 "nbformat_minor": 5
}
